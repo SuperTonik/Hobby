{
  "nbformat": 4,
  "nbformat_minor": 0,
  "metadata": {
    "colab": {
      "provenance": [],
      "authorship_tag": "ABX9TyM1sr0fO9grE4NXpYGXAjFi",
      "include_colab_link": true
    },
    "kernelspec": {
      "name": "python3",
      "display_name": "Python 3"
    },
    "language_info": {
      "name": "python"
    }
  },
  "cells": [
    {
      "cell_type": "markdown",
      "metadata": {
        "id": "view-in-github",
        "colab_type": "text"
      },
      "source": [
        "<a href=\"https://colab.research.google.com/github/SuperTonik/Hobby/blob/main/cnn_demo.ipynb\" target=\"_parent\"><img src=\"https://colab.research.google.com/assets/colab-badge.svg\" alt=\"Open In Colab\"/></a>"
      ]
    },
    {
      "cell_type": "markdown",
      "source": [
        "# Introduction\n",
        "\n",
        "Feed-forward neural network (FNN) is a type of artificial neural network. FNN consists of input layer which is followed by hidden layers and then an output layer. Data flows from the input layer through the hidden layers making it a uni-directional network.\n",
        "\n",
        "The hidden layer of the FNN consists of nodes. These individual notes have activation functions which govern the node's output given some input and a weight. An example of an activation function is the popular rectified linear unit (ReLu).\n",
        "\n",
        "$f(x) = max(0, x) = \\frac{x + |x|}{2} = \\begin{cases} x, & \\text{if}\\; x > 0, \\\\ 0 & \\text{otherwise.}\\end{cases}$\n",
        "\n",
        "Earliest and most simple FNN was actually used by Legendre and Gauss in early 19th century to predict planetary movement.\n",
        "\n",
        "The problem with FNN is that even small inputs require many weights for a each node. The number of weight per node can be reduced with convolution.\n",
        "\n",
        "## Convolution\n",
        "Convolution itself is a pretty hefty topic. In mathematical terms convolution of functions $f$ and $g$ is\n",
        "$ (f * g)(t) := \\int_{-\\infty}^{\\infty} f(t-\\tau)g(\\tau)d\\tau.$\n",
        "\n",
        "As a very simple example, we consider two sets $a = \\{2, 4, 6\\}$ and $b = \\{1,2,3\\}$. The convolution of this is calculated as\n",
        "\n",
        "$ (a*b) = \\{2*1, 2*2+4*1, 3*2+2*4+1*6, 3*4+2*6, 3*6\\} = \\{2, 8, 20, 24, 18\\}.$\n",
        "\n",
        "This can be verified using NumPy."
      ],
      "metadata": {
        "id": "8FBWyDlnaEvF"
      }
    },
    {
      "cell_type": "code",
      "source": [
        "import numpy as np\n",
        "\n",
        "a = np.array([2, 4, 6])\n",
        "b = np.array([1, 2, 3])\n",
        "\n",
        "print(np.convolve(a, b))"
      ],
      "metadata": {
        "colab": {
          "base_uri": "https://localhost:8080/"
        },
        "id": "vWjTTKk3UfzK",
        "outputId": "7aae9146-2953-4165-bc19-3c7c5f1e02a1"
      },
      "execution_count": 1,
      "outputs": [
        {
          "output_type": "stream",
          "name": "stdout",
          "text": [
            "[ 2  8 20 24 18]\n"
          ]
        }
      ]
    },
    {
      "cell_type": "markdown",
      "source": [
        "Convolution is used in image processing. For example, Gaussian blur calculates the pixel values using convolution from surrounding pixels. The surrounding pixels refers the kernel used in the method. In Gaussian blur, the kernel is constructed by sampling values from Gaussian distribution, i. e. the center of the kernel has largest value and then the values drop following the distribution. Here is an example of Gaussian kernel which can be generated quite easily:"
      ],
      "metadata": {
        "id": "1u-htnAzVCHR"
      }
    },
    {
      "cell_type": "code",
      "source": [
        "import matplotlib.pyplot as plt\n",
        "\n",
        "def gaussian_kernel(l, sig):\n",
        "    \"\"\"\n",
        "      Generates a 2D Gaussian kernel with side length of 'l' and sigma of 'sig'.\n",
        "    \"\"\"\n",
        "    ax = np.linspace(-(l - 1) / 2., (l - 1) / 2., l)\n",
        "    gauss = np.exp(-0.5 * np.square(ax) / np.square(sig))\n",
        "    kernel = np.outer(gauss, gauss)\n",
        "    return kernel / np.sum(kernel)\n",
        "\n",
        "kernel = gaussian_kernel(20, 3)\n",
        "\n",
        "plt.imshow(kernel)\n",
        "plt.show()"
      ],
      "metadata": {
        "colab": {
          "base_uri": "https://localhost:8080/",
          "height": 430
        },
        "id": "_w2Th949XsKS",
        "outputId": "41a0228b-6450-44cd-bf58-bfc0d6d3fd63"
      },
      "execution_count": 8,
      "outputs": [
        {
          "output_type": "display_data",
          "data": {
            "text/plain": [
              "<Figure size 640x480 with 1 Axes>"
            ],
            "image/png": "[encoded data removed]"
          },
          "metadata": {}
        }
      ]
    },
    {
      "cell_type": "markdown",
      "source": [],
      "metadata": {
        "id": "YXT_eQ5QZ9WN"
      }
    },
    {
      "cell_type": "code",
      "execution_count": null,
      "metadata": {
        "colab": {
          "base_uri": "https://localhost:8080/"
        },
        "id": "CaqDdc07Z6b-",
        "outputId": "a4d8cdca-11c8-4ab7-a747-078eb93fc270"
      },
      "outputs": [
        {
          "output_type": "stream",
          "name": "stdout",
          "text": [
            "Downloading from https://www.kaggle.com/api/v1/datasets/download/rm1000/brain-tumor-mri-scans?dataset_version_number=1...\n"
          ]
        },
        {
          "output_type": "stream",
          "name": "stderr",
          "text": [
            "100%|██████████| 236M/236M [00:02<00:00, 85.3MB/s]"
          ]
        },
        {
          "output_type": "stream",
          "name": "stdout",
          "text": [
            "Extracting files...\n"
          ]
        },
        {
          "output_type": "stream",
          "name": "stderr",
          "text": [
            "\n"
          ]
        },
        {
          "output_type": "stream",
          "name": "stdout",
          "text": [
            "Path to dataset files: /root/.cache/kagglehub/datasets/rm1000/brain-tumor-mri-scans/versions/1\n"
          ]
        }
      ],
      "source": [
        "import kagglehub\n",
        "\n",
        "# Download latest version\n",
        "path = kagglehub.dataset_download(\"rm1000/brain-tumor-mri-scans\")\n",
        "\n",
        "print(\"Path to dataset files:\", path)"
      ]
    },
    {
      "cell_type": "code",
      "source": [],
      "metadata": {
        "id": "UoLhSGigaYDM"
      },
      "execution_count": null,
      "outputs": []
    }
  ]
}